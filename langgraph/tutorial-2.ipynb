{
 "cells": [
  {
   "cell_type": "code",
   "execution_count": 1,
   "metadata": {},
   "outputs": [],
   "source": [
    "from pprint import pprint\n",
    "from langchain_core.messages import AIMessage, HumanMessage\n",
    "\n",
    "from dotenv import load_dotenv\n",
    "import os\n",
    "\n",
    "from langchain_google_vertexai import ChatVertexAI\n",
    "\n",
    "from langchain_community.tools.tavily_search import TavilySearchResults\n",
    "\n",
    "from typing_extensions import TypedDict\n",
    "from langchain_core.messages import AnyMessage\n",
    "\n",
    "\n",
    "from typing import Annotated #Annotated allows adding extra information, in this case, the reducer function, aside from just specifying a data type\n",
    "from langgraph.graph.message import add_messages\n",
    "\n",
    "from langgraph.graph import MessagesState\n",
    "\n",
    "from IPython.display import Image, display\n",
    "from langgraph.graph import StateGraph, START, END"
   ]
  },
  {
   "cell_type": "code",
   "execution_count": 2,
   "metadata": {},
   "outputs": [
    {
     "name": "stdout",
     "output_type": "stream",
     "text": [
      "TAVILY_API_KEY loaded successfully!\n"
     ]
    }
   ],
   "source": [
    "# Load environment variables from .env file\n",
    "load_dotenv()\n",
    "\n",
    "# Access the environment variable\n",
    "tavily_api_key = os.getenv(\"TAVILY_API_KEY\")\n",
    "\n",
    "if not tavily_api_key:\n",
    "    raise ValueError(\"TAVILY_API_KEY is not set. Please check your .env file.\")\n",
    "\n",
    "print(\"TAVILY_API_KEY loaded successfully!\")"
   ]
  },
  {
   "cell_type": "code",
   "execution_count": 3,
   "metadata": {},
   "outputs": [
    {
     "name": "stdout",
     "output_type": "stream",
     "text": [
      "==================================\u001b[1m Ai Message \u001b[0m==================================\n",
      "Name: Model\n",
      "\n",
      "So you said you were researching life-sized Gundams?\n",
      "================================\u001b[1m Human Message \u001b[0m=================================\n",
      "Name: Kokko\n",
      "\n",
      "Yes, that's right.\n",
      "==================================\u001b[1m Ai Message \u001b[0m==================================\n",
      "Name: Model\n",
      "\n",
      "Great, what would you like to learn about.\n",
      "================================\u001b[1m Human Message \u001b[0m=================================\n",
      "Name: Kokko\n",
      "\n",
      "I want to learn about the best place to see life-sized Gundams in Japan\n"
     ]
    }
   ],
   "source": [
    "gundam_messages = [AIMessage(content=f\"So you said you were researching life-sized Gundams?\", name=\"Model\")]\n",
    "gundam_messages.append(HumanMessage(content=f\"Yes, that's right.\",name=\"Kokko\"))\n",
    "gundam_messages.append(AIMessage(content=f\"Great, what would you like to learn about.\", name=\"Model\"))\n",
    "gundam_messages.append(HumanMessage(content=f\"I want to learn about the best place to see life-sized Gundams in Japan\", name=\"Kokko\"))\n",
    "\n",
    "for m in gundam_messages:\n",
    "    m.pretty_print()"
   ]
  },
  {
   "cell_type": "code",
   "execution_count": 4,
   "metadata": {},
   "outputs": [],
   "source": [
    "llm = ChatVertexAI(model=\"gemini-1.5-flash-002\", temperature=0)"
   ]
  },
  {
   "cell_type": "code",
   "execution_count": 5,
   "metadata": {},
   "outputs": [],
   "source": [
    "result = llm.invoke(gundam_messages)"
   ]
  },
  {
   "cell_type": "code",
   "execution_count": 6,
   "metadata": {},
   "outputs": [
    {
     "data": {
      "text/plain": [
       "langchain_core.messages.ai.AIMessage"
      ]
     },
     "execution_count": 6,
     "metadata": {},
     "output_type": "execute_result"
    }
   ],
   "source": [
    "type(result)"
   ]
  },
  {
   "cell_type": "code",
   "execution_count": 7,
   "metadata": {},
   "outputs": [
    {
     "data": {
      "text/plain": [
       "AIMessage(content='There are currently two life-sized Gundam statues in Japan that are regularly accessible to the public:\\n\\n* **Gundam Factory Yokohama:** This features a life-sized RX-78-2 Gundam, but it\\'s more than just a statue.  It\\'s a full-fledged attraction with moving parts, shows, and a museum.  This is generally considered the *best* place to see a life-sized Gundam due to the interactive experience.  It\\'s located in Yokohama.\\n\\n* **Gundam Statue in Odaiba, Tokyo:** This is a more static display, but still impressive.  It\\'s a different Gundam design than the one in Yokohama.  While not as interactive, its location in Odaiba makes it easily accessible as part of a Tokyo trip.  This statue has been replaced a few times with different models over the years.  Check the current model before you go.\\n\\n\\nTherefore, the \"best\" place depends on your priorities:\\n\\n* **For the ultimate Gundam experience with movement and interactive elements:** **Gundam Factory Yokohama** is the clear winner.\\n* **For a convenient location in Tokyo and a still impressive statue:** **Odaiba, Tokyo** is a good choice.\\n\\n\\nBefore you go, I strongly recommend checking the official websites for both locations for opening hours, ticket prices, and any special events.  They sometimes have limited-time exhibitions or shows.\\n', additional_kwargs={}, response_metadata={'is_blocked': False, 'safety_ratings': [], 'usage_metadata': {'prompt_token_count': 46, 'candidates_token_count': 289, 'total_token_count': 335, 'cached_content_token_count': 0}, 'finish_reason': 'STOP', 'avg_logprobs': -0.2063781843878406}, id='run-0cb8a8a1-8a3e-48a7-930c-1761c3c0aa39-0', usage_metadata={'input_tokens': 46, 'output_tokens': 289, 'total_tokens': 335})"
      ]
     },
     "execution_count": 7,
     "metadata": {},
     "output_type": "execute_result"
    }
   ],
   "source": [
    "result"
   ]
  },
  {
   "cell_type": "code",
   "execution_count": 8,
   "metadata": {},
   "outputs": [],
   "source": [
    "tavily_search = TavilySearchResults(max_results=3)"
   ]
  },
  {
   "cell_type": "code",
   "execution_count": 9,
   "metadata": {},
   "outputs": [],
   "source": [
    "llm_with_tavily = llm.bind_tools([tavily_search])"
   ]
  },
  {
   "cell_type": "code",
   "execution_count": 10,
   "metadata": {},
   "outputs": [],
   "source": [
    "tool_call = llm_with_tavily.invoke(gundam_messages)"
   ]
  },
  {
   "cell_type": "code",
   "execution_count": 11,
   "metadata": {},
   "outputs": [
    {
     "data": {
      "text/plain": [
       "AIMessage(content='', additional_kwargs={'function_call': {'name': 'tavily_search_results_json', 'arguments': '{\"query\": \"best place to see life-sized Gundams in Japan\"}'}}, response_metadata={'is_blocked': False, 'safety_ratings': [], 'usage_metadata': {'prompt_token_count': 93, 'candidates_token_count': 20, 'total_token_count': 113, 'cached_content_token_count': 0}, 'finish_reason': 'STOP', 'avg_logprobs': -0.0006547830067574978}, id='run-826db53b-16fd-4f6c-862e-92b1efe601f6-0', tool_calls=[{'name': 'tavily_search_results_json', 'args': {'query': 'best place to see life-sized Gundams in Japan'}, 'id': 'ebb67bef-763b-4001-a4d9-cabb7f31be00', 'type': 'tool_call'}], usage_metadata={'input_tokens': 93, 'output_tokens': 20, 'total_tokens': 113})"
      ]
     },
     "execution_count": 11,
     "metadata": {},
     "output_type": "execute_result"
    }
   ],
   "source": [
    "tool_call"
   ]
  },
  {
   "cell_type": "code",
   "execution_count": 12,
   "metadata": {},
   "outputs": [
    {
     "data": {
      "text/plain": [
       "{'name': 'tavily_search_results_json',\n",
       " 'arguments': '{\"query\": \"best place to see life-sized Gundams in Japan\"}'}"
      ]
     },
     "execution_count": 12,
     "metadata": {},
     "output_type": "execute_result"
    }
   ],
   "source": [
    "tool_call.additional_kwargs['function_call']"
   ]
  },
  {
   "cell_type": "markdown",
   "metadata": {},
   "source": [
    "Defining the state for our Langgraph:\n",
    "\n",
    "```python\n",
    "class MessagesState(TypedDict):\n",
    "    messages: Annotated[list[AnyMessage], add_messages] #using Annotated and add_messages here makes sure that messages are not overwritten at nodes\n",
    "```\n",
    "\n",
    "This is already pre-built in Langgraph as:\n",
    "\n",
    "```python\n",
    "from langgraph.graph import MessagesState\n",
    "\n",
    "class MessagesState(MessagesState):\n",
    "    # Add any keys needed beyond messages, which is pre-built \n",
    "    pass\n",
    "```"
   ]
  },
  {
   "cell_type": "code",
   "execution_count": 13,
   "metadata": {},
   "outputs": [],
   "source": [
    "class MessagesState(MessagesState):\n",
    "    # Add any keys needed beyond messages, which is pre-built \n",
    "    pass"
   ]
  },
  {
   "cell_type": "code",
   "execution_count": 14,
   "metadata": {},
   "outputs": [],
   "source": [
    "#define the tool calling node\n",
    "def llm_with_tavily_tool_call_node(state: MessagesState):\n",
    "    return {\"messages\": [llm_with_tavily.invoke(state[\"messages\"])]}"
   ]
  },
  {
   "cell_type": "code",
   "execution_count": 15,
   "metadata": {},
   "outputs": [],
   "source": [
    "# Build graph\n",
    "builder = StateGraph(MessagesState)\n",
    "builder.add_node(\"llm_with_tavily_tool_call_node\", llm_with_tavily_tool_call_node)\n",
    "builder.add_edge(START, \"llm_with_tavily_tool_call_node\")\n",
    "builder.add_edge(\"llm_with_tavily_tool_call_node\", END)\n",
    "graph = builder.compile()"
   ]
  },
  {
   "cell_type": "code",
   "execution_count": 16,
   "metadata": {},
   "outputs": [
    {
     "data": {
      "image/png": "[encoded data removed]",
      "text/plain": [
       "<IPython.core.display.Image object>"
      ]
     },
     "metadata": {},
     "output_type": "display_data"
    }
   ],
   "source": [
    "display(Image(graph.get_graph().draw_mermaid_png()))\n"
   ]
  },
  {
   "cell_type": "code",
   "execution_count": 17,
   "metadata": {},
   "outputs": [
    {
     "name": "stdout",
     "output_type": "stream",
     "text": [
      "================================\u001b[1m Human Message \u001b[0m=================================\n",
      "Name: Kokko\n",
      "\n",
      "Hello!\n",
      "==================================\u001b[1m Ai Message \u001b[0m==================================\n",
      "\n",
      "Hello! How can I help you today?\n"
     ]
    }
   ],
   "source": [
    "basic_messages_response = graph.invoke({\"messages\": HumanMessage(content=\"Hello!\", name=\"Kokko\")})\n",
    "for m in basic_messages_response['messages']:\n",
    "    m.pretty_print()"
   ]
  },
  {
   "cell_type": "code",
   "execution_count": 18,
   "metadata": {},
   "outputs": [
    {
     "name": "stdout",
     "output_type": "stream",
     "text": [
      "==================================\u001b[1m Ai Message \u001b[0m==================================\n",
      "Name: Model\n",
      "\n",
      "So you said you were researching life-sized Gundams?\n",
      "================================\u001b[1m Human Message \u001b[0m=================================\n",
      "Name: Kokko\n",
      "\n",
      "Yes, that's right.\n",
      "==================================\u001b[1m Ai Message \u001b[0m==================================\n",
      "Name: Model\n",
      "\n",
      "Great, what would you like to learn about.\n",
      "================================\u001b[1m Human Message \u001b[0m=================================\n",
      "Name: Kokko\n",
      "\n",
      "I want to learn about the best place to see life-sized Gundams in Japan\n",
      "==================================\u001b[1m Ai Message \u001b[0m==================================\n",
      "Tool Calls:\n",
      "  tavily_search_results_json (78b9cc29-d718-457e-be0f-f2d788ec173b)\n",
      " Call ID: 78b9cc29-d718-457e-be0f-f2d788ec173b\n",
      "  Args:\n",
      "    query: best place to see life-sized Gundams in Japan\n"
     ]
    }
   ],
   "source": [
    "gundam_messages = graph.invoke({\"messages\": gundam_messages})\n",
    "for m in gundam_messages_response['messages']:\n",
    "    m.pretty_print()"
   ]
  },
  {
   "cell_type": "code",
   "execution_count": null,
   "metadata": {},
   "outputs": [],
   "source": []
  }
 ],
 "metadata": {
  "kernelspec": {
   "display_name": "venv",
   "language": "python",
   "name": "python3"
  },
  "language_info": {
   "codemirror_mode": {
    "name": "ipython",
    "version": 3
   },
   "file_extension": ".py",
   "mimetype": "text/x-python",
   "name": "python",
   "nbconvert_exporter": "python",
   "pygments_lexer": "ipython3",
   "version": "3.10.11"
  }
 },
 "nbformat": 4,
 "nbformat_minor": 2
}
