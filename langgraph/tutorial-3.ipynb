{
 "cells": [
  {
   "cell_type": "code",
   "execution_count": 1,
   "metadata": {},
   "outputs": [],
   "source": [
    "from pprint import pprint\n",
    "from langchain_core.messages import AIMessage, HumanMessage\n",
    "\n",
    "from dotenv import load_dotenv\n",
    "import os\n",
    "\n",
    "from langchain_google_vertexai import ChatVertexAI\n",
    "\n",
    "from langchain_community.tools.tavily_search import TavilySearchResults\n",
    "\n",
    "from typing_extensions import TypedDict\n",
    "from langchain_core.messages import AnyMessage\n",
    "\n",
    "\n",
    "from typing import Annotated #Annotated allows adding extra information, in this case, the reducer function, aside from just specifying a data type\n",
    "from langgraph.graph.message import add_messages\n",
    "\n",
    "from langgraph.graph import MessagesState\n",
    "\n",
    "from IPython.display import Image, display\n",
    "from langgraph.graph import StateGraph, START, END\n",
    "\n",
    "from langgraph.prebuilt import ToolNode\n",
    "from langgraph.prebuilt import tools_condition\n",
    "\n",
    "from langgraph.checkpoint.memory import MemorySaver\n"
   ]
  },
  {
   "cell_type": "code",
   "execution_count": 2,
   "metadata": {},
   "outputs": [
    {
     "name": "stdout",
     "output_type": "stream",
     "text": [
      "TAVILY_API_KEY loaded successfully!\n"
     ]
    }
   ],
   "source": [
    "# Load environment variables from .env file\n",
    "load_dotenv()\n",
    "\n",
    "# Access the environment variable\n",
    "tavily_api_key = os.getenv(\"TAVILY_API_KEY\")\n",
    "\n",
    "if not tavily_api_key:\n",
    "    raise ValueError(\"TAVILY_API_KEY is not set. Please check your .env file.\")\n",
    "\n",
    "print(\"TAVILY_API_KEY loaded successfully!\")"
   ]
  },
  {
   "cell_type": "code",
   "execution_count": 3,
   "metadata": {},
   "outputs": [
    {
     "name": "stdout",
     "output_type": "stream",
     "text": [
      "==================================\u001b[1m Ai Message \u001b[0m==================================\n",
      "Name: Model\n",
      "\n",
      "So you said you were researching life-sized Gundams?\n",
      "================================\u001b[1m Human Message \u001b[0m=================================\n",
      "Name: Kokko\n",
      "\n",
      "Yes, that's right.\n",
      "==================================\u001b[1m Ai Message \u001b[0m==================================\n",
      "Name: Model\n",
      "\n",
      "Great, what would you like to learn about.\n",
      "================================\u001b[1m Human Message \u001b[0m=================================\n",
      "Name: Kokko\n",
      "\n",
      "I want to learn about the best place to see life-sized Gundams in Japan\n"
     ]
    }
   ],
   "source": [
    "gundam_messages = [AIMessage(content=f\"So you said you were researching life-sized Gundams?\", name=\"Model\")]\n",
    "gundam_messages.append(HumanMessage(content=f\"Yes, that's right.\",name=\"Kokko\"))\n",
    "gundam_messages.append(AIMessage(content=f\"Great, what would you like to learn about.\", name=\"Model\"))\n",
    "gundam_messages.append(HumanMessage(content=f\"I want to learn about the best place to see life-sized Gundams in Japan\", name=\"Kokko\"))\n",
    "\n",
    "for m in gundam_messages:\n",
    "    m.pretty_print()"
   ]
  },
  {
   "cell_type": "code",
   "execution_count": 4,
   "metadata": {},
   "outputs": [],
   "source": [
    "# Create a message\n",
    "msg = HumanMessage(content=\"Hello world\", name=\"Kokko\")\n",
    "\n",
    "# Message list\n",
    "basic_messages = [msg]"
   ]
  },
  {
   "cell_type": "code",
   "execution_count": 5,
   "metadata": {},
   "outputs": [],
   "source": [
    "tavily_search = TavilySearchResults(max_results=3)"
   ]
  },
  {
   "cell_type": "code",
   "execution_count": 6,
   "metadata": {},
   "outputs": [],
   "source": [
    "llm = ChatVertexAI(model=\"gemini-1.5-flash-002\", temperature=0)"
   ]
  },
  {
   "cell_type": "code",
   "execution_count": 7,
   "metadata": {},
   "outputs": [],
   "source": [
    "llm_with_tavily = llm.bind_tools([tavily_search])"
   ]
  },
  {
   "cell_type": "code",
   "execution_count": 8,
   "metadata": {},
   "outputs": [],
   "source": [
    "class MessagesState(MessagesState):\n",
    "    # Add any keys needed beyond messages, which is pre-built \n",
    "    pass"
   ]
  },
  {
   "cell_type": "code",
   "execution_count": 9,
   "metadata": {},
   "outputs": [],
   "source": [
    "#define the tool calling node\n",
    "def llm_with_tavily_tool_call_node(state: MessagesState):\n",
    "    return {\"messages\": [llm_with_tavily.invoke(state[\"messages\"])]}"
   ]
  },
  {
   "cell_type": "code",
   "execution_count": 10,
   "metadata": {},
   "outputs": [
    {
     "data": {
      "image/png": "[encoded data removed]",
      "text/plain": [
       "<IPython.core.display.Image object>"
      ]
     },
     "metadata": {},
     "output_type": "display_data"
    }
   ],
   "source": [
    "# Build graph\n",
    "builder = StateGraph(MessagesState)\n",
    "builder.add_node(\"llm_with_tavily_tool_call_node\", llm_with_tavily_tool_call_node)\n",
    "builder.add_node(\"tools\", ToolNode([tavily_search]))\n",
    "builder.add_edge(START, \"llm_with_tavily_tool_call_node\")\n",
    "builder.add_conditional_edges(\n",
    "    \"llm_with_tavily_tool_call_node\",\n",
    "    # If the latest message (result) from assistant is a tool call -> tools_condition routes to tools\n",
    "    # If the latest message (result) from assistant is a not a tool call -> tools_condition routes to END\n",
    "    tools_condition,\n",
    ")\n",
    "builder.add_edge(\"tools\", END)\n",
    "graph = builder.compile()\n",
    "\n",
    "# View\n",
    "display(Image(graph.get_graph().draw_mermaid_png()))"
   ]
  },
  {
   "cell_type": "code",
   "execution_count": 11,
   "metadata": {},
   "outputs": [
    {
     "data": {
      "text/plain": [
       "list"
      ]
     },
     "execution_count": 11,
     "metadata": {},
     "output_type": "execute_result"
    }
   ],
   "source": [
    "type(basic_messages)"
   ]
  },
  {
   "cell_type": "code",
   "execution_count": 12,
   "metadata": {},
   "outputs": [],
   "source": [
    "basic_messages = graph.invoke({\"messages\": basic_messages}) #this type change from list to langgraph.pregel.io.AddableValuesDict is best practice in Langgraph\n"
   ]
  },
  {
   "cell_type": "code",
   "execution_count": 13,
   "metadata": {},
   "outputs": [
    {
     "data": {
      "text/plain": [
       "langgraph.pregel.io.AddableValuesDict"
      ]
     },
     "execution_count": 13,
     "metadata": {},
     "output_type": "execute_result"
    }
   ],
   "source": [
    "type(basic_messages)"
   ]
  },
  {
   "cell_type": "code",
   "execution_count": 14,
   "metadata": {},
   "outputs": [],
   "source": [
    "gundam_messages = graph.invoke({\"messages\": gundam_messages}) "
   ]
  },
  {
   "cell_type": "code",
   "execution_count": 15,
   "metadata": {},
   "outputs": [
    {
     "data": {
      "text/plain": [
       "{'messages': [AIMessage(content='So you said you were researching life-sized Gundams?', additional_kwargs={}, response_metadata={}, name='Model', id='4fc8e072-322c-452c-8e2f-2aafe55b85e7'),\n",
       "  HumanMessage(content=\"Yes, that's right.\", additional_kwargs={}, response_metadata={}, name='Kokko', id='2a3492ec-068d-4aa7-9aa3-4fccbf7358b9'),\n",
       "  AIMessage(content='Great, what would you like to learn about.', additional_kwargs={}, response_metadata={}, name='Model', id='a6d886f2-b0a8-47d2-bede-8fa916aef363'),\n",
       "  HumanMessage(content='I want to learn about the best place to see life-sized Gundams in Japan', additional_kwargs={}, response_metadata={}, name='Kokko', id='23ad5062-7f14-462a-90ae-7bc6a34ccf6d'),\n",
       "  AIMessage(content='', additional_kwargs={'function_call': {'name': 'tavily_search_results_json', 'arguments': '{\"query\": \"best place to see life-sized Gundams in Japan\"}'}}, response_metadata={'is_blocked': False, 'safety_ratings': [], 'usage_metadata': {'prompt_token_count': 93, 'candidates_token_count': 20, 'total_token_count': 113, 'cached_content_token_count': 0}, 'finish_reason': 'STOP', 'avg_logprobs': -0.0004935977049171925}, id='run-c5ab6689-9afc-478e-ad90-6a95f3055e86-0', tool_calls=[{'name': 'tavily_search_results_json', 'args': {'query': 'best place to see life-sized Gundams in Japan'}, 'id': '2ff8d411-e944-45e8-a827-48832d48cfd0', 'type': 'tool_call'}], usage_metadata={'input_tokens': 93, 'output_tokens': 20, 'total_tokens': 113}),\n",
       "  ToolMessage(content='[{\"url\": \"https://www.kkday.com/en/blog/60189/asia-japan-gundam-itinerary-gunpla-guide-in-japan\", \"content\": \"Where to See Life-sized Gundam Statues. At present, there are two life-sized gundam statues that you can see in Japan- one in Odaiba, Tokyo and another one in Fukuoka. Unicorn Gundam Statue in Odaiba, Tokyo via Unicorn Gundam Statue\\'s website. This statue is the newest Gundam attraction in Japan.\"}, {\"url\": \"https://www.livetheworld.com/post/seeing-the-life-size-gundam-in-japan-up-close-and-personal-rarp\", \"content\": \"Seeing the life-size Gundam in Japan up-close and personal! Seeing the life-size Gundam in Japan up-close and personal! It was established to celebrate the 40th anniversary of the Gundam franchise and provide fans like me with an up-close experience of the iconic RX-78-2 Gundam mobile suit - which is even more mindblowing in real life than you’d think! For any Gundam fans or a traveller who wants a slice of Japanese surrealism come to life, then visiting the Gundam Factory in Yokohama is an absolute must-do. I knew I wanted to experience this once in a lifetime exhibition with the skyline of Yokohama on a clear day, as when it rains or overcast, seeing the Gundam is still epic, but just wouldn’t be the same.\"}, {\"url\": \"https://japan-travel-explorer.com/gundam-tokyo/\", \"content\": \"Seeing the life-sized Gundam Tokyo exhibit is an unforgettable experience. Towering over the streets, this life-sized robot attracts anime fans and curious travelers from around the world. If you\\'re visiting Tokyo, this is a must-see destination and the life-sized Gundam Tokyo statue should be on your list.\"}]', name='tavily_search_results_json', id='b1f5154e-c730-454d-969e-21f79a998a0d', tool_call_id='2ff8d411-e944-45e8-a827-48832d48cfd0', artifact={'query': 'best place to see life-sized Gundams in Japan', 'follow_up_questions': None, 'answer': None, 'images': [], 'results': [{'title': 'Gundam Itinerary: Your Ultimate Gunpla Guide In Japan', 'url': 'https://www.kkday.com/en/blog/60189/asia-japan-gundam-itinerary-gunpla-guide-in-japan', 'content': \"Where to See Life-sized Gundam Statues. At present, there are two life-sized gundam statues that you can see in Japan- one in Odaiba, Tokyo and another one in Fukuoka. Unicorn Gundam Statue in Odaiba, Tokyo via Unicorn Gundam Statue's website. This statue is the newest Gundam attraction in Japan.\", 'score': 0.9374919, 'raw_content': None}, {'title': 'Seeing the life-size Gundam in Japan up-close and personal!', 'url': 'https://www.livetheworld.com/post/seeing-the-life-size-gundam-in-japan-up-close-and-personal-rarp', 'content': 'Seeing the life-size Gundam in Japan up-close and personal! Seeing the life-size Gundam in Japan up-close and personal! It was established to celebrate the 40th anniversary of the Gundam franchise and provide fans like me with an up-close experience of the iconic RX-78-2 Gundam mobile suit - which is even more mindblowing in real life than you’d think! For any Gundam fans or a traveller who wants a slice of Japanese surrealism come to life, then visiting the Gundam Factory in Yokohama is an absolute must-do. I knew I wanted to experience this once in a lifetime exhibition with the skyline of Yokohama on a clear day, as when it rains or overcast, seeing the Gundam is still epic, but just wouldn’t be the same.', 'score': 0.92005306, 'raw_content': None}, {'title': \"Explore the Life-Sized Gundam in TOKYO's Odaiba\", 'url': 'https://japan-travel-explorer.com/gundam-tokyo/', 'content': \"Seeing the life-sized Gundam Tokyo exhibit is an unforgettable experience. Towering over the streets, this life-sized robot attracts anime fans and curious travelers from around the world. If you're visiting Tokyo, this is a must-see destination and the life-sized Gundam Tokyo statue should be on your list.\", 'score': 0.8963332, 'raw_content': None}], 'response_time': 1.62})]}"
      ]
     },
     "execution_count": 15,
     "metadata": {},
     "output_type": "execute_result"
    }
   ],
   "source": [
    "gundam_messages"
   ]
  },
  {
   "cell_type": "code",
   "execution_count": 16,
   "metadata": {},
   "outputs": [
    {
     "name": "stdout",
     "output_type": "stream",
     "text": [
      "==================================\u001b[1m Ai Message \u001b[0m==================================\n",
      "Name: Model\n",
      "\n",
      "So you said you were researching life-sized Gundams?\n",
      "================================\u001b[1m Human Message \u001b[0m=================================\n",
      "Name: Kokko\n",
      "\n",
      "Yes, that's right.\n",
      "==================================\u001b[1m Ai Message \u001b[0m==================================\n",
      "Name: Model\n",
      "\n",
      "Great, what would you like to learn about.\n",
      "================================\u001b[1m Human Message \u001b[0m=================================\n",
      "Name: Kokko\n",
      "\n",
      "I want to learn about the best place to see life-sized Gundams in Japan\n",
      "==================================\u001b[1m Ai Message \u001b[0m==================================\n",
      "Tool Calls:\n",
      "  tavily_search_results_json (2ff8d411-e944-45e8-a827-48832d48cfd0)\n",
      " Call ID: 2ff8d411-e944-45e8-a827-48832d48cfd0\n",
      "  Args:\n",
      "    query: best place to see life-sized Gundams in Japan\n",
      "=================================\u001b[1m Tool Message \u001b[0m=================================\n",
      "Name: tavily_search_results_json\n",
      "\n",
      "[{\"url\": \"https://www.kkday.com/en/blog/60189/asia-japan-gundam-itinerary-gunpla-guide-in-japan\", \"content\": \"Where to See Life-sized Gundam Statues. At present, there are two life-sized gundam statues that you can see in Japan- one in Odaiba, Tokyo and another one in Fukuoka. Unicorn Gundam Statue in Odaiba, Tokyo via Unicorn Gundam Statue's website. This statue is the newest Gundam attraction in Japan.\"}, {\"url\": \"https://www.livetheworld.com/post/seeing-the-life-size-gundam-in-japan-up-close-and-personal-rarp\", \"content\": \"Seeing the life-size Gundam in Japan up-close and personal! Seeing the life-size Gundam in Japan up-close and personal! It was established to celebrate the 40th anniversary of the Gundam franchise and provide fans like me with an up-close experience of the iconic RX-78-2 Gundam mobile suit - which is even more mindblowing in real life than you’d think! For any Gundam fans or a traveller who wants a slice of Japanese surrealism come to life, then visiting the Gundam Factory in Yokohama is an absolute must-do. I knew I wanted to experience this once in a lifetime exhibition with the skyline of Yokohama on a clear day, as when it rains or overcast, seeing the Gundam is still epic, but just wouldn’t be the same.\"}, {\"url\": \"https://japan-travel-explorer.com/gundam-tokyo/\", \"content\": \"Seeing the life-sized Gundam Tokyo exhibit is an unforgettable experience. Towering over the streets, this life-sized robot attracts anime fans and curious travelers from around the world. If you're visiting Tokyo, this is a must-see destination and the life-sized Gundam Tokyo statue should be on your list.\"}]\n"
     ]
    }
   ],
   "source": [
    "for m in gundam_messages['messages']:\n",
    "    m.pretty_print()"
   ]
  },
  {
   "cell_type": "code",
   "execution_count": 17,
   "metadata": {},
   "outputs": [
    {
     "data": {
      "image/png": "[encoded data removed]",
      "text/plain": [
       "<IPython.core.display.Image object>"
      ]
     },
     "metadata": {},
     "output_type": "display_data"
    }
   ],
   "source": [
    "# Build graph\n",
    "builder = StateGraph(MessagesState)\n",
    "builder.add_node(\"llm_with_tavily_tool_call_node\", llm_with_tavily_tool_call_node)\n",
    "builder.add_node(\"tools\", ToolNode([tavily_search]))\n",
    "builder.add_edge(START, \"llm_with_tavily_tool_call_node\")\n",
    "builder.add_conditional_edges(\n",
    "    \"llm_with_tavily_tool_call_node\",\n",
    "    # If the latest message (result) from assistant is a tool call -> tools_condition routes to tools\n",
    "    # If the latest message (result) from assistant is a not a tool call -> tools_condition routes to END\n",
    "    tools_condition,\n",
    ")\n",
    "builder.add_edge(\"tools\", \"llm_with_tavily_tool_call_node\")\n",
    "graph = builder.compile()\n",
    "\n",
    "# View\n",
    "display(Image(graph.get_graph().draw_mermaid_png()))"
   ]
  },
  {
   "cell_type": "code",
   "execution_count": 18,
   "metadata": {},
   "outputs": [],
   "source": [
    "gundam_messages = graph.invoke({\"messages\": gundam_messages[\"messages\"]}) "
   ]
  },
  {
   "cell_type": "code",
   "execution_count": 19,
   "metadata": {},
   "outputs": [
    {
     "name": "stdout",
     "output_type": "stream",
     "text": [
      "==================================\u001b[1m Ai Message \u001b[0m==================================\n",
      "Name: Model\n",
      "\n",
      "So you said you were researching life-sized Gundams?\n",
      "================================\u001b[1m Human Message \u001b[0m=================================\n",
      "Name: Kokko\n",
      "\n",
      "Yes, that's right.\n",
      "==================================\u001b[1m Ai Message \u001b[0m==================================\n",
      "Name: Model\n",
      "\n",
      "Great, what would you like to learn about.\n",
      "================================\u001b[1m Human Message \u001b[0m=================================\n",
      "Name: Kokko\n",
      "\n",
      "I want to learn about the best place to see life-sized Gundams in Japan\n",
      "==================================\u001b[1m Ai Message \u001b[0m==================================\n",
      "Tool Calls:\n",
      "  tavily_search_results_json (2ff8d411-e944-45e8-a827-48832d48cfd0)\n",
      " Call ID: 2ff8d411-e944-45e8-a827-48832d48cfd0\n",
      "  Args:\n",
      "    query: best place to see life-sized Gundams in Japan\n",
      "=================================\u001b[1m Tool Message \u001b[0m=================================\n",
      "Name: tavily_search_results_json\n",
      "\n",
      "[{\"url\": \"https://www.kkday.com/en/blog/60189/asia-japan-gundam-itinerary-gunpla-guide-in-japan\", \"content\": \"Where to See Life-sized Gundam Statues. At present, there are two life-sized gundam statues that you can see in Japan- one in Odaiba, Tokyo and another one in Fukuoka. Unicorn Gundam Statue in Odaiba, Tokyo via Unicorn Gundam Statue's website. This statue is the newest Gundam attraction in Japan.\"}, {\"url\": \"https://www.livetheworld.com/post/seeing-the-life-size-gundam-in-japan-up-close-and-personal-rarp\", \"content\": \"Seeing the life-size Gundam in Japan up-close and personal! Seeing the life-size Gundam in Japan up-close and personal! It was established to celebrate the 40th anniversary of the Gundam franchise and provide fans like me with an up-close experience of the iconic RX-78-2 Gundam mobile suit - which is even more mindblowing in real life than you’d think! For any Gundam fans or a traveller who wants a slice of Japanese surrealism come to life, then visiting the Gundam Factory in Yokohama is an absolute must-do. I knew I wanted to experience this once in a lifetime exhibition with the skyline of Yokohama on a clear day, as when it rains or overcast, seeing the Gundam is still epic, but just wouldn’t be the same.\"}, {\"url\": \"https://japan-travel-explorer.com/gundam-tokyo/\", \"content\": \"Seeing the life-sized Gundam Tokyo exhibit is an unforgettable experience. Towering over the streets, this life-sized robot attracts anime fans and curious travelers from around the world. If you're visiting Tokyo, this is a must-see destination and the life-sized Gundam Tokyo statue should be on your list.\"}]\n",
      "==================================\u001b[1m Ai Message \u001b[0m==================================\n",
      "\n",
      "Based on my search, there are currently two life-sized Gundam statues in Japan: one in Odaiba, Tokyo, and another in Fukuoka.  The one in Odaiba is described as the newest Gundam attraction and is a Unicorn Gundam.  A third location, Yokohama, is mentioned as having a life-sized Gundam statue as part of a temporary exhibition at Gundam Factory Yokohama.  To determine which is \"best\" depends on your priorities (newest, specific Gundam model, etc.) and your travel plans.  I recommend checking the links provided for more details on each location.\n"
     ]
    }
   ],
   "source": [
    "for m in gundam_messages['messages']:\n",
    "    m.pretty_print()"
   ]
  },
  {
   "cell_type": "code",
   "execution_count": 20,
   "metadata": {},
   "outputs": [
    {
     "data": {
      "image/png": "[encoded data removed]",
      "text/plain": [
       "<IPython.core.display.Image object>"
      ]
     },
     "metadata": {},
     "output_type": "display_data"
    }
   ],
   "source": [
    "# Build graph\n",
    "builder = StateGraph(MessagesState)\n",
    "memory = MemorySaver()\n",
    "builder.add_node(\"llm_with_tavily_tool_call_node\", llm_with_tavily_tool_call_node)\n",
    "builder.add_node(\"tools\", ToolNode([tavily_search]))\n",
    "builder.add_edge(START, \"llm_with_tavily_tool_call_node\")\n",
    "builder.add_conditional_edges(\n",
    "    \"llm_with_tavily_tool_call_node\",\n",
    "    # If the latest message (result) from assistant is a tool call -> tools_condition routes to tools\n",
    "    # If the latest message (result) from assistant is a not a tool call -> tools_condition routes to END\n",
    "    tools_condition,\n",
    ")\n",
    "builder.add_edge(\"tools\", \"llm_with_tavily_tool_call_node\")\n",
    "react_graph_memory = builder.compile(checkpointer=memory)\n",
    "# View\n",
    "display(Image(graph.get_graph().draw_mermaid_png()))"
   ]
  },
  {
   "cell_type": "code",
   "execution_count": 21,
   "metadata": {},
   "outputs": [
    {
     "name": "stdout",
     "output_type": "stream",
     "text": [
      "==================================\u001b[1m Ai Message \u001b[0m==================================\n",
      "Name: Model\n",
      "\n",
      "So you said you were researching life-sized Gundams?\n",
      "================================\u001b[1m Human Message \u001b[0m=================================\n",
      "Name: Kokko\n",
      "\n",
      "Yes, that's right.\n",
      "==================================\u001b[1m Ai Message \u001b[0m==================================\n",
      "Name: Model\n",
      "\n",
      "Great, what would you like to learn about.\n",
      "================================\u001b[1m Human Message \u001b[0m=================================\n",
      "Name: Kokko\n",
      "\n",
      "I want to learn about the best place to see life-sized Gundams in Japan\n"
     ]
    }
   ],
   "source": [
    "gundam_messages = [AIMessage(content=f\"So you said you were researching life-sized Gundams?\", name=\"Model\")]\n",
    "gundam_messages.append(HumanMessage(content=f\"Yes, that's right.\",name=\"Kokko\"))\n",
    "gundam_messages.append(AIMessage(content=f\"Great, what would you like to learn about.\", name=\"Model\"))\n",
    "gundam_messages.append(HumanMessage(content=f\"I want to learn about the best place to see life-sized Gundams in Japan\", name=\"Kokko\"))\n",
    "\n",
    "for m in gundam_messages:\n",
    "    m.pretty_print()"
   ]
  },
  {
   "cell_type": "code",
   "execution_count": 22,
   "metadata": {},
   "outputs": [
    {
     "name": "stdout",
     "output_type": "stream",
     "text": [
      "==================================\u001b[1m Ai Message \u001b[0m==================================\n",
      "Name: Model\n",
      "\n",
      "So you said you were researching life-sized Gundams?\n",
      "================================\u001b[1m Human Message \u001b[0m=================================\n",
      "Name: Kokko\n",
      "\n",
      "Yes, that's right.\n",
      "==================================\u001b[1m Ai Message \u001b[0m==================================\n",
      "Name: Model\n",
      "\n",
      "Great, what would you like to learn about.\n",
      "================================\u001b[1m Human Message \u001b[0m=================================\n",
      "Name: Kokko\n",
      "\n",
      "I want to learn about the best place to see life-sized Gundams in Japan\n",
      "==================================\u001b[1m Ai Message \u001b[0m==================================\n",
      "Tool Calls:\n",
      "  tavily_search_results_json (1cfaae92-ea1a-4ccc-b01f-4402b14dfd1b)\n",
      " Call ID: 1cfaae92-ea1a-4ccc-b01f-4402b14dfd1b\n",
      "  Args:\n",
      "    query: best place to see life-sized Gundams in Japan\n",
      "=================================\u001b[1m Tool Message \u001b[0m=================================\n",
      "Name: tavily_search_results_json\n",
      "\n",
      "[{\"url\": \"https://www.kkday.com/en/blog/60189/asia-japan-gundam-itinerary-gunpla-guide-in-japan\", \"content\": \"Where to See Life-sized Gundam Statues. At present, there are two life-sized gundam statues that you can see in Japan- one in Odaiba, Tokyo and another one in Fukuoka. Unicorn Gundam Statue in Odaiba, Tokyo via Unicorn Gundam Statue's website. This statue is the newest Gundam attraction in Japan.\"}, {\"url\": \"https://www.livetheworld.com/post/seeing-the-life-size-gundam-in-japan-up-close-and-personal-rarp\", \"content\": \"Seeing the life-size Gundam in Japan up-close and personal! Seeing the life-size Gundam in Japan up-close and personal! It was established to celebrate the 40th anniversary of the Gundam franchise and provide fans like me with an up-close experience of the iconic RX-78-2 Gundam mobile suit - which is even more mindblowing in real life than you’d think! For any Gundam fans or a traveller who wants a slice of Japanese surrealism come to life, then visiting the Gundam Factory in Yokohama is an absolute must-do. I knew I wanted to experience this once in a lifetime exhibition with the skyline of Yokohama on a clear day, as when it rains or overcast, seeing the Gundam is still epic, but just wouldn’t be the same.\"}, {\"url\": \"https://japan-travel-explorer.com/gundam-tokyo/\", \"content\": \"Seeing the life-sized Gundam Tokyo exhibit is an unforgettable experience. Towering over the streets, this life-sized robot attracts anime fans and curious travelers from around the world. If you're visiting Tokyo, this is a must-see destination and the life-sized Gundam Tokyo statue should be on your list.\"}]\n",
      "==================================\u001b[1m Ai Message \u001b[0m==================================\n",
      "\n",
      "Based on my search, there are currently two life-sized Gundam statues in Japan: one in Odaiba, Tokyo, and another in Fukuoka.  The Odaiba statue is described as the newest Gundam attraction.  A third location, the Gundam Factory in Yokohama, is also mentioned and seems to be a popular choice for visitors.  Each location offers a unique experience, so the \"best\" place depends on your priorities and what you want to see.  I recommend checking out the links provided in the search results for more details on each location.\n"
     ]
    }
   ],
   "source": [
    "# Specify a thread\n",
    "config = {\"configurable\": {\"thread_id\": \"1\"}}\n",
    "\n",
    "# Run\n",
    "gundam_messages = react_graph_memory.invoke({\"messages\": gundam_messages}, config)\n",
    "\n",
    "for m in gundam_messages[\"messages\"]:\n",
    "    m.pretty_print()"
   ]
  },
  {
   "cell_type": "code",
   "execution_count": 23,
   "metadata": {},
   "outputs": [
    {
     "name": "stdout",
     "output_type": "stream",
     "text": [
      "==================================\u001b[1m Ai Message \u001b[0m==================================\n",
      "Name: Model\n",
      "\n",
      "So you said you were researching life-sized Gundams?\n",
      "================================\u001b[1m Human Message \u001b[0m=================================\n",
      "Name: Kokko\n",
      "\n",
      "Yes, that's right.\n",
      "==================================\u001b[1m Ai Message \u001b[0m==================================\n",
      "Name: Model\n",
      "\n",
      "Great, what would you like to learn about.\n",
      "================================\u001b[1m Human Message \u001b[0m=================================\n",
      "Name: Kokko\n",
      "\n",
      "I want to learn about the best place to see life-sized Gundams in Japan\n",
      "==================================\u001b[1m Ai Message \u001b[0m==================================\n",
      "Tool Calls:\n",
      "  tavily_search_results_json (1cfaae92-ea1a-4ccc-b01f-4402b14dfd1b)\n",
      " Call ID: 1cfaae92-ea1a-4ccc-b01f-4402b14dfd1b\n",
      "  Args:\n",
      "    query: best place to see life-sized Gundams in Japan\n",
      "=================================\u001b[1m Tool Message \u001b[0m=================================\n",
      "Name: tavily_search_results_json\n",
      "\n",
      "[{\"url\": \"https://www.kkday.com/en/blog/60189/asia-japan-gundam-itinerary-gunpla-guide-in-japan\", \"content\": \"Where to See Life-sized Gundam Statues. At present, there are two life-sized gundam statues that you can see in Japan- one in Odaiba, Tokyo and another one in Fukuoka. Unicorn Gundam Statue in Odaiba, Tokyo via Unicorn Gundam Statue's website. This statue is the newest Gundam attraction in Japan.\"}, {\"url\": \"https://www.livetheworld.com/post/seeing-the-life-size-gundam-in-japan-up-close-and-personal-rarp\", \"content\": \"Seeing the life-size Gundam in Japan up-close and personal! Seeing the life-size Gundam in Japan up-close and personal! It was established to celebrate the 40th anniversary of the Gundam franchise and provide fans like me with an up-close experience of the iconic RX-78-2 Gundam mobile suit - which is even more mindblowing in real life than you’d think! For any Gundam fans or a traveller who wants a slice of Japanese surrealism come to life, then visiting the Gundam Factory in Yokohama is an absolute must-do. I knew I wanted to experience this once in a lifetime exhibition with the skyline of Yokohama on a clear day, as when it rains or overcast, seeing the Gundam is still epic, but just wouldn’t be the same.\"}, {\"url\": \"https://japan-travel-explorer.com/gundam-tokyo/\", \"content\": \"Seeing the life-sized Gundam Tokyo exhibit is an unforgettable experience. Towering over the streets, this life-sized robot attracts anime fans and curious travelers from around the world. If you're visiting Tokyo, this is a must-see destination and the life-sized Gundam Tokyo statue should be on your list.\"}]\n",
      "==================================\u001b[1m Ai Message \u001b[0m==================================\n",
      "\n",
      "Based on my search, there are currently two life-sized Gundam statues in Japan: one in Odaiba, Tokyo, and another in Fukuoka.  The Odaiba statue is described as the newest Gundam attraction.  A third location, the Gundam Factory in Yokohama, is also mentioned and seems to be a popular choice for visitors.  Each location offers a unique experience, so the \"best\" place depends on your priorities and what you want to see.  I recommend checking out the links provided in the search results for more details on each location.\n",
      "================================\u001b[1m Human Message \u001b[0m=================================\n",
      "\n",
      "Which Gundam series are these Gundams a part of?\n",
      "==================================\u001b[1m Ai Message \u001b[0m==================================\n",
      "Tool Calls:\n",
      "  tavily_search_results_json (219cf793-de34-4009-be61-a354129b9858)\n",
      " Call ID: 219cf793-de34-4009-be61-a354129b9858\n",
      "  Args:\n",
      "    query: which Gundam series are the life sized Gundams in Japan a part of\n",
      "=================================\u001b[1m Tool Message \u001b[0m=================================\n",
      "Name: tavily_search_results_json\n",
      "\n",
      "[{\"url\": \"https://blog.gaijinpot.com/larger-than-life-experiencing-gundam-in-japan/\", \"content\": \"Series appearance: Based on the RX-93v, which appeared in the film Mobile Suit Gundam: Char's Counterattack Height: 24.8m Highlights: The RX-93 is the largest life-sized Gundam statue in Japan. In addition to lighting up and moving its head and arm during the performance, the Gundam is accompanied by multimedia shows that highlight the eternal struggle between the series' first protagonist\"}, {\"url\": \"https://en.gundam.info/news/goods/01_7166.html\", \"content\": \"This will be the sixth life-size Gundam in history (excluding the Moving Gundam) and the first in western Japan. The vGundam made its appearance in the Gundam series' first original movie, Mobile Suit Gundam: Char's Counterattack, and remains popular both in and outside Japan. Yoshiyuki Tomino, the director of that series, also supervised\"}, {\"url\": \"https://www.kanpai-japan.com/tokyo/life-size-gundam-statue\", \"content\": \"Life Size Gundam Statue - Odaiba's Giant Robot The Gundam RX-78-2 statue represents a life size giant robot, of about 20 meters high, from the mecha series of the same name. Up to 6 Gundam Cafes opened in Japan : in Tokyo (Odaiba and Akihabara), Osaka (Lalaport Expocity and Dotonbori), Fukuoka et Yokohama. ⬇️ Further down this page, discover our visit guide in Life Size Gundam Statue and around. [![Image 11: Life-sized RX-0 Unicorn Gundam statue](https://www.kanpai-japan.com/sites/default/files/styles/gallery_2_3_sm/public/uploads/2013/07/odaiba-unicorn-gundam-8.jpg)](https://www.kanpai-japan.com/sites/default/files/uploads/2013/07/odaiba-unicorn-gundam-8.jpg) [![Image 16: Life-sized RX-0 Unicorn Gundam statue 6](https://www.kanpai-japan.com/sites/default/files/styles/gallery_1_2_sm/public/uploads/2013/07/odaiba-unicorn-gundam-5.jpg)](https://www.kanpai-japan.com/sites/default/files/uploads/2013/07/odaiba-unicorn-gundam-5.jpg) [![Image 17: Life-sized RX-0 Unicorn Gundam statue 7](https://www.kanpai-japan.com/sites/default/files/styles/gallery_1_2_sm/public/uploads/2013/07/odaiba-unicorn-gundam-6.jpg)](https://www.kanpai-japan.com/sites/default/files/uploads/2013/07/odaiba-unicorn-gundam-6.jpg) How to say Life Size Gundam Statue in Japanese? Life Size Gundam Statue and the Kanpai Community\"}]\n",
      "==================================\u001b[1m Ai Message \u001b[0m==================================\n",
      "\n",
      "The life-sized Gundams in Japan represent different mobile suits from the Gundam franchise.  The one in Odaiba, Tokyo, is the RX-78-2,  featured prominently in the original *Mobile Suit Gundam* series. The Gundam in Yokohama is based on the RX-93ν Gundam from *Mobile Suit Gundam: Char's Counterattack*.  The Fukuoka Gundam's specific model isn't explicitly stated in my search results, but it's mentioned to be based on a design from *Mobile Suit Gundam: Char's Counterattack*.\n"
     ]
    }
   ],
   "source": [
    "new_gundam_messages = [HumanMessage(content=\"Which Gundam series are these Gundams a part of?\")]\n",
    "\n",
    "# Run\n",
    "new_gundam_messages = react_graph_memory.invoke({\"messages\": new_gundam_messages}, config)\n",
    "\n",
    "for m in new_gundam_messages[\"messages\"]:\n",
    "    m.pretty_print()\n"
   ]
  },
  {
   "cell_type": "code",
   "execution_count": null,
   "metadata": {},
   "outputs": [],
   "source": []
  }
 ],
 "metadata": {
  "kernelspec": {
   "display_name": "venv",
   "language": "python",
   "name": "python3"
  },
  "language_info": {
   "codemirror_mode": {
    "name": "ipython",
    "version": 3
   },
   "file_extension": ".py",
   "mimetype": "text/x-python",
   "name": "python",
   "nbconvert_exporter": "python",
   "pygments_lexer": "ipython3",
   "version": "3.10.11"
  }
 },
 "nbformat": 4,
 "nbformat_minor": 2
}
